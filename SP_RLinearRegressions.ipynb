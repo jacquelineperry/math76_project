{
 "cells": [
  {
   "cell_type": "code",
   "execution_count": null,
   "metadata": {},
   "outputs": [],
   "source": [
    "library(ggplot2)\n",
    "library(tidyverse)\n",
    "library(rpart)\n",
    "library(rpart.plot)\n",
    "library(caret)\n",
    "library(car)\n",
    "library(sjPlot)\n",
    "library(sjmisc)\n",
    "library(gplots)\n",
    "library(RColorBrewer)"
   ]
  },
  {
   "cell_type": "code",
   "execution_count": null,
   "metadata": {},
   "outputs": [],
   "source": [
    "# Store all 80 dataframes for  into a list\n",
    "quarters <- list()\n",
    "for (i in 1:20) {\n",
    "    name <- paste(\"year\", as.character(i), \"_linreg.csv\", sep = \"\")\n",
    "    years[[i]] <- read.csv(name, header=T)\n",
    "    row.names(years[[i]]) <- years[[i]]$Company\n",
    "    years[[i]] <- years[[i]][-1]\n",
    "}\n",
    "\n",
    "years[[1]]"
   ]
  }
 ],
 "metadata": {
  "language_info": {
   "name": "python"
  },
  "orig_nbformat": 4
 },
 "nbformat": 4,
 "nbformat_minor": 2
}
